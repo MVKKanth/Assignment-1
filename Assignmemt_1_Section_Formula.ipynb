{
  "nbformat": 4,
  "nbformat_minor": 0,
  "metadata": {
    "colab": {
      "name": "Assignmemt - 1_Section Formula.ipynb",
      "provenance": [],
      "collapsed_sections": [],
      "include_colab_link": true
    },
    "kernelspec": {
      "name": "python3",
      "display_name": "Python 3"
    },
    "language_info": {
      "name": "python"
    }
  },
  "cells": [
    {
      "cell_type": "markdown",
      "metadata": {
        "id": "view-in-github",
        "colab_type": "text"
      },
      "source": [
        "<a href=\"https://colab.research.google.com/github/MVKKanth/Assignment-1/blob/main/Assignmemt_1_Section_Formula.ipynb\" target=\"_parent\"><img src=\"https://colab.research.google.com/assets/colab-badge.svg\" alt=\"Open In Colab\"/></a>"
      ]
    },
    {
      "cell_type": "code",
      "metadata": {
        "colab": {
          "base_uri": "https://localhost:8080/",
          "height": 269
        },
        "id": "Lydn5mHye1b5",
        "outputId": "37611f54-36b8-451a-cd21-f95b2b400f9b"
      },
      "source": [
        "import numpy as np\n",
        "import matplotlib.pyplot as plt\n",
        "\n",
        "plt.axis([-3,3,-5,1])\n",
        "\n",
        "plt.axis('on')\n",
        "plt.grid(True)\n",
        "\n",
        "A = np.array([-2, -2])\n",
        "B = np.array([2, -4])\n",
        "P = np.array([-0.28,-2.85])\n",
        "\n",
        "def plot_line(p,q):\n",
        "  len =10\n",
        "  dim = A.shape[0]\n",
        "  x_pq = np.zeros((dim,len))\n",
        "  lam_1 = np.linspace(0,1,len)\n",
        "  for i in range(len):\n",
        "    temp1 = p + lam_1[i]*(q-p)\n",
        "    x_pq[:,i]= temp1.T\n",
        "  return x_pq\n",
        "\n",
        "#Generating all lines\n",
        "x_AP = plot_line(A, P)\n",
        "x_PB = plot_line(P, B)\n",
        "\n",
        "#Plotting all lines\n",
        "plt.plot(x_AP[0,:],x_AP[1,:],label='$AP$')\n",
        "plt.plot(x_PB[0,:],x_PB[1,:],label='$PB$')\n",
        "plt.text (-2,-2,'A(-2,-2)')\n",
        "plt.text(2,-4,'B(2,-4)')\n",
        "plt.text(-0.28,-2.85,'C(-0.28,-2.85)')\n",
        "\n",
        "plt.savefig('line.png')\n",
        "plt.show()"
      ],
      "execution_count": null,
      "outputs": [
        {
          "output_type": "display_data",
          "data": {
            "image/png": "[encoded data removed]",
            "text/plain": [
              "<Figure size 432x288 with 1 Axes>"
            ]
          },
          "metadata": {
            "needs_background": "light"
          }
        }
      ]
    }
  ]
}